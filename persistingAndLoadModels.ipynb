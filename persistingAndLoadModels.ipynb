{
 "cells": [
  {
   "cell_type": "code",
   "execution_count": 25,
   "id": "290ba372-a082-49e1-bbde-1a9fff83a59b",
   "metadata": {},
   "outputs": [
    {
     "data": {
      "text/plain": [
       "array(['HipHop'], dtype=object)"
      ]
     },
     "execution_count": 25,
     "metadata": {},
     "output_type": "execute_result"
    }
   ],
   "source": [
    "import pandas as pd\n",
    "from sklearn.tree import DecisionTreeClassifier\n",
    "import joblib\n",
    "\n",
    "# music_data = pd.read_csv('music.csv')      #\n",
    "# X = music_data.drop(columns = ['genre'])      # import our data set\n",
    "# y = music_data['genre']                    #\n",
    "\n",
    "# model = DecisionTreeClassifier()  #creating an instance model of the class DecisionTreeClassifier  #create our model\n",
    "# model.fit(X,y)         #train our model\n",
    "\n",
    "#joblib.dump(model, 'music recommender.joblib')\n",
    "\n",
    "model = joblib.load('music recommender.joblib')\n",
    "input_data = pd.DataFrame([[21, 1]],columns = ['age', 'gender'])\n",
    "\n",
    "predictions = model.predict(input_data)   #ask the model to make predictions\n",
    "predictions         "
   ]
  },
  {
   "cell_type": "code",
   "execution_count": null,
   "id": "97f0d75b-55c7-44e5-9865-547a0a1660bf",
   "metadata": {},
   "outputs": [],
   "source": []
  }
 ],
 "metadata": {
  "kernelspec": {
   "display_name": "Python 3 (ipykernel)",
   "language": "python",
   "name": "python3"
  },
  "language_info": {
   "codemirror_mode": {
    "name": "ipython",
    "version": 3
   },
   "file_extension": ".py",
   "mimetype": "text/x-python",
   "name": "python",
   "nbconvert_exporter": "python",
   "pygments_lexer": "ipython3",
   "version": "3.12.4"
  }
 },
 "nbformat": 4,
 "nbformat_minor": 5
}

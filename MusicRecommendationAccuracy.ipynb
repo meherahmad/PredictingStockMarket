{
 "cells": [
  {
   "cell_type": "code",
   "execution_count": 19,
   "id": "2a519653-5ff3-4d9a-ac5f-452e100ad116",
   "metadata": {},
   "outputs": [
    {
     "data": {
      "text/plain": [
       "1.0"
      ]
     },
     "execution_count": 19,
     "metadata": {},
     "output_type": "execute_result"
    }
   ],
   "source": [
    "import pandas as pd\n",
    "from sklearn.tree import DecisionTreeClassifier\n",
    "from sklearn.model_selection import train_test_split\n",
    "from sklearn.metrics import accuracy_score\n",
    "\n",
    "music_data = pd.read_csv('music.csv')\n",
    "X = music_data.drop(columns = ['genre'])\n",
    "y = music_data['genre'] \n",
    "X_train , X_test, y_train, y_test = train_test_split(X, y, test_size = 0.2)\n",
    "\n",
    "model = DecisionTreeClassifier()  #creating an instance model of the class DecisionTreeClassifier\n",
    "model.fit(X_train,y_train)  #we feed the model with training data\n",
    "#new_data = pd.DataFrame([[21,1] , [22,0]] , columns=X.columns)\n",
    "predictions = model.predict(X_test)  \n",
    "\n",
    "score = accuracy_score(y_test, predictions)  #comparing the testing data with the current prediction of the model\n",
    "score"
   ]
  },
  {
   "cell_type": "code",
   "execution_count": null,
   "id": "538f6156-24cb-4d89-b5b8-b803fc40aa24",
   "metadata": {},
   "outputs": [],
   "source": []
  }
 ],
 "metadata": {
  "kernelspec": {
   "display_name": "Python 3 (ipykernel)",
   "language": "python",
   "name": "python3"
  },
  "language_info": {
   "codemirror_mode": {
    "name": "ipython",
    "version": 3
   },
   "file_extension": ".py",
   "mimetype": "text/x-python",
   "name": "python",
   "nbconvert_exporter": "python",
   "pygments_lexer": "ipython3",
   "version": "3.12.4"
  }
 },
 "nbformat": 4,
 "nbformat_minor": 5
}
